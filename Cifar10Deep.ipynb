{
 "cells": [
  {
   "cell_type": "code",
   "execution_count": 1,
   "metadata": {},
   "outputs": [],
   "source": [
    "import tensorflow as tf\n",
    "import keras\n",
    "from keras.initializers import Constant\n",
    "import numpy as np\n",
    "import matplotlib.pyplot as plt"
   ]
  },
  {
   "cell_type": "code",
   "execution_count": 2,
   "metadata": {},
   "outputs": [],
   "source": [
    "# Load the dataset\n",
    "cifar10 = tf.keras.datasets.cifar10"
   ]
  },
  {
   "cell_type": "code",
   "execution_count": 3,
   "metadata": {},
   "outputs": [],
   "source": [
    "# Load the training and test split of the dataset\n",
    "(training_images, training_labels), (test_images, test_labels) = cifar10.load_data()"
   ]
  },
  {
   "cell_type": "code",
   "execution_count": 4,
   "metadata": {},
   "outputs": [],
   "source": [
    "# Normalize the pixel values of the train and test images\n",
    "training_images  = training_images / 255.0\n",
    "test_images = test_images / 255.0"
   ]
  },
  {
   "cell_type": "code",
   "execution_count": 5,
   "metadata": {},
   "outputs": [],
   "source": [
    "class myCallback(tf.keras.callbacks.Callback):\n",
    "  def on_epoch_end(self, epoch, logs={}):\n",
    "    '''\n",
    "    Halts the training after reaching 75 percent accuracy\n",
    "\n",
    "    Args:\n",
    "      epoch (integer) - index of epoch (required but unused in the function definition below)\n",
    "      logs (dict) - metric results from the training epoch\n",
    "    '''\n",
    "\n",
    "    # Check accuracy\n",
    "    if(logs.get('accuracy') > 0.75):\n",
    "\n",
    "      # Stop if threshold is met\n",
    "      print(\"\\nAccuracy is greater than 0.75 so cancelling training.\")\n",
    "      self.model.stop_training = True\n",
    "\n",
    "# Instantiate class\n",
    "callbacks = myCallback()"
   ]
  },
  {
   "cell_type": "code",
   "execution_count": 6,
   "metadata": {},
   "outputs": [],
   "source": [
    "def unsaturated(number, threshold):\n",
    "    if number > threshold:\n",
    "        return 1\n",
    "    else:\n",
    "        return 0"
   ]
  },
  {
   "cell_type": "code",
   "execution_count": 7,
   "metadata": {},
   "outputs": [],
   "source": [
    "def unsaturated_tanh(number):\n",
    "    if (number > -0.95) and (number <0.95):\n",
    "        return 1\n",
    "    else:\n",
    "        return 0"
   ]
  },
  {
   "cell_type": "code",
   "execution_count": 8,
   "metadata": {},
   "outputs": [],
   "source": [
    "Unsaturated=np.vectorize(unsaturated)"
   ]
  },
  {
   "cell_type": "code",
   "execution_count": 9,
   "metadata": {},
   "outputs": [],
   "source": [
    "Unsaturated_tanh=np.vectorize(unsaturated_tanh)"
   ]
  },
  {
   "cell_type": "code",
   "execution_count": 10,
   "metadata": {},
   "outputs": [],
   "source": [
    "# LAYER is a string \n",
    "def actProb(MODEL, LAYER):\n",
    "    List=[]\n",
    "    for image in test_images:\n",
    "        intermediate_output = tf.keras.Model(MODEL.input, \n",
    "                                    MODEL.get_layer(LAYER).output)\n",
    "        extracted = intermediate_output(image[None, ...])\n",
    "        List.append(Unsaturated(extracted,0))\n",
    "        \n",
    "    X=np.array(List).sum(axis=0)/len(test_images)\n",
    "    X=np.flip(np.sort(X.flatten()))\n",
    "    return X"
   ]
  },
  {
   "cell_type": "code",
   "execution_count": 11,
   "metadata": {},
   "outputs": [],
   "source": [
    "# LAYER is a string \n",
    "def actProb_tanh(MODEL, LAYER):\n",
    "    List=[]\n",
    "    for image in test_images:\n",
    "        intermediate_output = tf.keras.Model(MODEL.input, \n",
    "                                    MODEL.get_layer(LAYER).output)\n",
    "        extracted = intermediate_output(image[None, ...])\n",
    "        List.append(Unsaturated_tanh(extracted))\n",
    "        \n",
    "    X=np.array(List).sum(axis=0)/len(test_images)\n",
    "    X=np.flip(np.sort(X.flatten()))\n",
    "    return X"
   ]
  },
  {
   "cell_type": "markdown",
   "metadata": {},
   "source": [
    "### ReLU"
   ]
  },
  {
   "cell_type": "code",
   "execution_count": 12,
   "metadata": {},
   "outputs": [],
   "source": [
    "# Build the classification model\n",
    "modelR = tf.keras.models.Sequential([\n",
    "    \n",
    "    # Convolution Layers\n",
    "    tf.keras.layers.Conv2D(32, (3, 3), activation='relu', kernel_initializer='he_uniform', padding='same', input_shape=(32, 32, 3))\n",
    "    tf.keras.layers.Conv2D(32, (3, 3), activation='relu', kernel_initializer='he_uniform', padding='same')\n",
    "    tf.keras.layers.MaxPooling2D((2, 2))\n",
    "    tf.keras.layers.Conv2D(64, (3, 3), activation='relu', kernel_initializer='he_uniform', padding='same')\n",
    "    tf.keras.layers.Conv2D(64, (3, 3), activation='relu', kernel_initializer='he_uniform', padding='same')\n",
    "    tf.keras.layers.MaxPooling2D((2, 2))\n",
    "    tf.keras.layers.Conv2D(128, (3, 3), activation='relu', kernel_initializer='he_uniform', padding='same')\n",
    "    tf.keras.layers.Conv2D(128, (3, 3), activation='relu', kernel_initializer='he_uniform', padding='same')\n",
    "    tf.keras.layers.MaxPooling2D((2, 2))\n",
    "    \n",
    "    # Fully Connected Layers\n",
    "    tf.keras.layers.Flatten(), \n",
    "    tf.keras.layers.Dense(128, activation=tf.nn.relu, kernel_initializer='he_uniform'), \n",
    "    tf.keras.layers.Dense(10, activation=tf.nn.softmax)])"
   ]
  },
  {
   "cell_type": "code",
   "execution_count": 13,
   "metadata": {},
   "outputs": [],
   "source": [
    "opt = SGD(lr=0.001, momentum=0.9)\n",
    "modelR.compile(optimizer=opt, loss='categorical_crossentropy', metrics=['accuracy'])"
   ]
  },
  {
   "cell_type": "code",
   "execution_count": 14,
   "metadata": {},
   "outputs": [
    {
     "name": "stdout",
     "output_type": "stream",
     "text": [
      "Epoch 1/5\n",
      "1875/1875 [==============================] - 40s 21ms/step - loss: 0.4599 - accuracy: 0.8339\n",
      "Epoch 2/5\n",
      "1875/1875 [==============================] - 41s 22ms/step - loss: 0.3172 - accuracy: 0.8832\n",
      "Epoch 3/5\n",
      "1875/1875 [==============================] - 40s 21ms/step - loss: 0.2711 - accuracy: 0.8993\n",
      "Epoch 4/5\n",
      "1875/1875 [==============================] - 39s 21ms/step - loss: 0.2409 - accuracy: 0.9108\n",
      "Epoch 5/5\n",
      "1875/1875 [==============================] - 39s 21ms/step - loss: 0.2179 - accuracy: 0.9190\n"
     ]
    },
    {
     "data": {
      "text/plain": [
       "<keras.callbacks.History at 0x7ffa3effc5e0>"
      ]
     },
     "execution_count": 14,
     "metadata": {},
     "output_type": "execute_result"
    }
   ],
   "source": [
    "modelR.fit(training_images, training_labels, epochs=5) # callbacks=[callbacks]"
   ]
  },
  {
   "cell_type": "code",
   "execution_count": 15,
   "metadata": {},
   "outputs": [
    {
     "name": "stdout",
     "output_type": "stream",
     "text": [
      "313/313 [==============================] - 2s 6ms/step - loss: 0.2612 - accuracy: 0.9050\n"
     ]
    },
    {
     "data": {
      "text/plain": [
       "[0.26115351915359497, 0.9049999713897705]"
      ]
     },
     "execution_count": 15,
     "metadata": {},
     "output_type": "execute_result"
    }
   ],
   "source": [
    "# Evaluate the model on unseen data\n",
    "modelR.evaluate(test_images, test_labels)"
   ]
  },
  {
   "cell_type": "code",
   "execution_count": 16,
   "metadata": {},
   "outputs": [
    {
     "data": {
      "text/plain": [
       "['conv2d',\n",
       " 'max_pooling2d',\n",
       " 'conv2d_1',\n",
       " 'max_pooling2d_1',\n",
       " 'flatten',\n",
       " 'dense',\n",
       " 'dense_1']"
      ]
     },
     "execution_count": 16,
     "metadata": {},
     "output_type": "execute_result"
    }
   ],
   "source": [
    "list(map(lambda x: x.name, modelR.layers))"
   ]
  },
  {
   "cell_type": "code",
   "execution_count": 17,
   "metadata": {},
   "outputs": [],
   "source": [
    "ReLU_activation_probabilities=actProb(modelR,\"conv2d_1\")"
   ]
  },
  {
   "cell_type": "code",
   "execution_count": 18,
   "metadata": {},
   "outputs": [
    {
     "data": {
      "text/plain": [
       "[<matplotlib.lines.Line2D at 0x7ffa3ff0a2e0>]"
      ]
     },
     "execution_count": 18,
     "metadata": {},
     "output_type": "execute_result"
    },
    {
     "data": {
      "image/png": "[encoded data removed]",
      "text/plain": [
       "<Figure size 432x288 with 1 Axes>"
      ]
     },
     "metadata": {
      "needs_background": "light"
     },
     "output_type": "display_data"
    }
   ],
   "source": [
    "# numConv=32 \n",
    "plt.plot(ReLU_activation_probabilities)"
   ]
  },
  {
   "cell_type": "code",
   "execution_count": 19,
   "metadata": {},
   "outputs": [
    {
     "data": {
      "text/plain": [
       "(0.2481553460743802, 0.15029888840135827)"
      ]
     },
     "execution_count": 19,
     "metadata": {},
     "output_type": "execute_result"
    }
   ],
   "source": [
    "ReLU_activation_probabilities.mean(),ReLU_activation_probabilities.std()"
   ]
  },
  {
   "cell_type": "markdown",
   "metadata": {},
   "source": [
    "### LReLU"
   ]
  },
  {
   "cell_type": "code",
   "execution_count": 20,
   "metadata": {},
   "outputs": [],
   "source": [
    "# Build the classification model\n",
    "modelL = tf.keras.models.Sequential([\n",
    "    \n",
    "    # Convolution Layers\n",
    "    tf.keras.layers.Conv2D(32, (3, 3), activation=tf.keras.layers.LeakyReLU(alpha=0.3), kernel_initializer='he_uniform', padding='same', input_shape=(32, 32, 3))\n",
    "    tf.keras.layers.Conv2D(32, (3, 3), activation=tf.keras.layers.LeakyReLU(alpha=0.3), kernel_initializer='he_uniform', padding='same')\n",
    "    tf.keras.layers.MaxPooling2D((2, 2))\n",
    "    tf.keras.layers.Conv2D(64, (3, 3), activation=tf.keras.layers.LeakyReLU(alpha=0.3), kernel_initializer='he_uniform', padding='same')\n",
    "    tf.keras.layers.Conv2D(64, (3, 3), activation=tf.keras.layers.LeakyReLU(alpha=0.3), kernel_initializer='he_uniform', padding='same')\n",
    "    tf.keras.layers.MaxPooling2D((2, 2))\n",
    "    tf.keras.layers.Conv2D(128, (3, 3), activation=tf.keras.layers.LeakyReLU(alpha=0.3), kernel_initializer='he_uniform', padding='same')\n",
    "    tf.keras.layers.Conv2D(128, (3, 3), activation=tf.keras.layers.LeakyReLU(alpha=0.3), kernel_initializer='he_uniform', padding='same')\n",
    "    tf.keras.layers.MaxPooling2D((2, 2))\n",
    "    \n",
    "    # Fully Connected Layers\n",
    "    tf.keras.layers.Flatten(), \n",
    "    tf.keras.layers.Dense(128, activation=tf.nn.relu, kernel_initializer='he_uniform'), \n",
    "    tf.keras.layers.Dense(10, activation=tf.nn.softmax)])"
   ]
  },
  {
   "cell_type": "code",
   "execution_count": 21,
   "metadata": {},
   "outputs": [],
   "source": [
    "opt = SGD(lr=0.001, momentum=0.9)\n",
    "modelL.compile(optimizer=opt, loss='categorical_crossentropy', metrics=['accuracy'])"
   ]
  },
  {
   "cell_type": "code",
   "execution_count": 22,
   "metadata": {},
   "outputs": [
    {
     "name": "stdout",
     "output_type": "stream",
     "text": [
      "Epoch 1/5\n",
      "1875/1875 [==============================] - 45s 24ms/step - loss: 0.4688 - accuracy: 0.8302\n",
      "Epoch 2/5\n",
      "1875/1875 [==============================] - 41s 22ms/step - loss: 0.3148 - accuracy: 0.8835\n",
      "Epoch 3/5\n",
      "1875/1875 [==============================] - 43s 23ms/step - loss: 0.2680 - accuracy: 0.9020\n",
      "Epoch 4/5\n",
      "1875/1875 [==============================] - 43s 23ms/step - loss: 0.2378 - accuracy: 0.9128\n",
      "Epoch 5/5\n",
      "1875/1875 [==============================] - 41s 22ms/step - loss: 0.2134 - accuracy: 0.9196\n"
     ]
    },
    {
     "data": {
      "text/plain": [
       "<keras.callbacks.History at 0x7ffa14c4c9a0>"
      ]
     },
     "execution_count": 22,
     "metadata": {},
     "output_type": "execute_result"
    }
   ],
   "source": [
    "modelL.fit(training_images, training_labels, epochs=5, callbacks=[callbacks])"
   ]
  },
  {
   "cell_type": "code",
   "execution_count": 23,
   "metadata": {},
   "outputs": [
    {
     "name": "stdout",
     "output_type": "stream",
     "text": [
      "313/313 [==============================] - 2s 7ms/step - loss: 0.2733 - accuracy: 0.9046\n"
     ]
    },
    {
     "data": {
      "text/plain": [
       "[0.2732788324356079, 0.9046000242233276]"
      ]
     },
     "execution_count": 23,
     "metadata": {},
     "output_type": "execute_result"
    }
   ],
   "source": [
    "modelL.evaluate(test_images, test_labels)"
   ]
  },
  {
   "cell_type": "code",
   "execution_count": 24,
   "metadata": {
    "scrolled": true
   },
   "outputs": [
    {
     "data": {
      "text/plain": [
       "['conv2d_2',\n",
       " 'max_pooling2d_2',\n",
       " 'conv2d_3',\n",
       " 'max_pooling2d_3',\n",
       " 'flatten_1',\n",
       " 'dense_2',\n",
       " 'dense_3']"
      ]
     },
     "execution_count": 24,
     "metadata": {},
     "output_type": "execute_result"
    }
   ],
   "source": [
    "list(map(lambda x: x.name, modelL.layers))"
   ]
  },
  {
   "cell_type": "code",
   "execution_count": 25,
   "metadata": {},
   "outputs": [],
   "source": [
    "LReLU_activation_probabilities=actProb(modelL,\"conv2d_3\")"
   ]
  },
  {
   "cell_type": "code",
   "execution_count": 26,
   "metadata": {},
   "outputs": [
    {
     "data": {
      "text/plain": [
       "[<matplotlib.lines.Line2D at 0x7ffa00942880>]"
      ]
     },
     "execution_count": 26,
     "metadata": {},
     "output_type": "execute_result"
    },
    {
     "data": {
      "image/png": "[encoded data removed]",
      "text/plain": [
       "<Figure size 432x288 with 1 Axes>"
      ]
     },
     "metadata": {
      "needs_background": "light"
     },
     "output_type": "display_data"
    }
   ],
   "source": [
    "plt.plot(LReLU_activation_probabilities)"
   ]
  },
  {
   "cell_type": "markdown",
   "metadata": {},
   "source": [
    "### htan"
   ]
  },
  {
   "cell_type": "code",
   "execution_count": 27,
   "metadata": {},
   "outputs": [],
   "source": [
    "# Build the classification model\n",
    "modelT = tf.keras.models.Sequential([\n",
    "    \n",
    "    # Convolution Layers\n",
    "    tf.keras.layers.Conv2D(32, (3, 3), activation=tf.keras.activations.tanh, kernel_initializer='he_uniform', padding='same', input_shape=(32, 32, 3))\n",
    "    tf.keras.layers.Conv2D(32, (3, 3), activation=tf.keras.activations.tanh, kernel_initializer='he_uniform', padding='same')\n",
    "    tf.keras.layers.MaxPooling2D((2, 2))\n",
    "    tf.keras.layers.Conv2D(64, (3, 3), activation=tf.keras.activations.tanh, kernel_initializer='he_uniform', padding='same')\n",
    "    tf.keras.layers.Conv2D(64, (3, 3), activation=tf.keras.activations.tanh, kernel_initializer='he_uniform', padding='same')\n",
    "    tf.keras.layers.MaxPooling2D((2, 2))\n",
    "    tf.keras.layers.Conv2D(128, (3, 3), activation=tf.keras.activations.tanh, kernel_initializer='he_uniform', padding='same')\n",
    "    tf.keras.layers.Conv2D(128, (3, 3), activation=tf.keras.activations.tanh, kernel_initializer='he_uniform', padding='same')\n",
    "    tf.keras.layers.MaxPooling2D((2, 2))\n",
    "    \n",
    "    # Fully Connected Layers\n",
    "    tf.keras.layers.Flatten(), \n",
    "    tf.keras.layers.Dense(128, activation=tf.nn.relu, kernel_initializer='he_uniform'), \n",
    "    tf.keras.layers.Dense(10, activation=tf.nn.softmax)])"
   ]
  },
  {
   "cell_type": "code",
   "execution_count": 28,
   "metadata": {},
   "outputs": [],
   "source": [
    "opt = SGD(lr=0.001, momentum=0.9)\n",
    "modelT.compile(optimizer=opt, loss='categorical_crossentropy', metrics=['accuracy'])"
   ]
  },
  {
   "cell_type": "code",
   "execution_count": 29,
   "metadata": {},
   "outputs": [
    {
     "name": "stdout",
     "output_type": "stream",
     "text": [
      "Epoch 1/5\n",
      "1875/1875 [==============================] - 44s 23ms/step - loss: 0.4481 - accuracy: 0.8392\n",
      "Epoch 2/5\n",
      "1875/1875 [==============================] - 44s 24ms/step - loss: 0.3043 - accuracy: 0.8883\n",
      "Epoch 3/5\n",
      "1875/1875 [==============================] - 43s 23ms/step - loss: 0.2609 - accuracy: 0.9046\n",
      "Epoch 4/5\n",
      "1875/1875 [==============================] - 42s 23ms/step - loss: 0.2278 - accuracy: 0.9145\n",
      "Epoch 5/5\n",
      "1875/1875 [==============================] - 42s 22ms/step - loss: 0.2023 - accuracy: 0.9245\n"
     ]
    },
    {
     "data": {
      "text/plain": [
       "<keras.callbacks.History at 0x7ffa00978130>"
      ]
     },
     "execution_count": 29,
     "metadata": {},
     "output_type": "execute_result"
    }
   ],
   "source": [
    "modelT.fit(training_images, training_labels, epochs=5)"
   ]
  },
  {
   "cell_type": "code",
   "execution_count": 30,
   "metadata": {},
   "outputs": [
    {
     "name": "stdout",
     "output_type": "stream",
     "text": [
      "313/313 [==============================] - 2s 6ms/step - loss: 0.2798 - accuracy: 0.9040\n"
     ]
    },
    {
     "data": {
      "text/plain": [
       "[0.27978289127349854, 0.9039999842643738]"
      ]
     },
     "execution_count": 30,
     "metadata": {},
     "output_type": "execute_result"
    }
   ],
   "source": [
    "modelT.evaluate(test_images, test_labels)"
   ]
  },
  {
   "cell_type": "code",
   "execution_count": 31,
   "metadata": {},
   "outputs": [
    {
     "data": {
      "text/plain": [
       "['conv2d_4',\n",
       " 'max_pooling2d_4',\n",
       " 'conv2d_5',\n",
       " 'max_pooling2d_5',\n",
       " 'flatten_2',\n",
       " 'dense_4',\n",
       " 'dense_5']"
      ]
     },
     "execution_count": 31,
     "metadata": {},
     "output_type": "execute_result"
    }
   ],
   "source": [
    "list(map(lambda x: x.name, modelT.layers))"
   ]
  },
  {
   "cell_type": "code",
   "execution_count": 32,
   "metadata": {},
   "outputs": [],
   "source": [
    "htan_activation_probabilities=actProb_tanh(modelT,\"conv2d_5\")"
   ]
  },
  {
   "cell_type": "code",
   "execution_count": 33,
   "metadata": {},
   "outputs": [
    {
     "data": {
      "text/plain": [
       "[<matplotlib.lines.Line2D at 0x7ff9e01e9df0>]"
      ]
     },
     "execution_count": 33,
     "metadata": {},
     "output_type": "execute_result"
    },
    {
     "data": {
      "image/png": "[encoded data removed]",
      "text/plain": [
       "<Figure size 432x288 with 1 Axes>"
      ]
     },
     "metadata": {
      "needs_background": "light"
     },
     "output_type": "display_data"
    }
   ],
   "source": [
    "plt.plot(htan_activation_probabilities)"
   ]
  },
  {
   "cell_type": "markdown",
   "metadata": {},
   "source": [
    "### PReLU "
   ]
  },
  {
   "cell_type": "code",
   "execution_count": null,
   "metadata": {},
   "outputs": [],
   "source": [
    "# tf.keras.layers.PReLU(alpha_initializer=constant(value=0.25))"
   ]
  },
  {
   "cell_type": "code",
   "execution_count": 34,
   "metadata": {},
   "outputs": [],
   "source": [
    "# Build the classification model\n",
    "modelP = tf.keras.models.Sequential([\n",
    "    \n",
    "    # Convolution Layers\n",
    "    tf.keras.layers.Conv2D(32, (3, 3), activation=tf.keras.layers.PReLU(alpha_initializer=Constant(value=0.25)), kernel_initializer='he_uniform', padding='same', input_shape=(32, 32, 3))\n",
    "    tf.keras.layers.Conv2D(32, (3, 3), activation=tf.keras.layers.PReLU(alpha_initializer=Constant(value=0.25)), kernel_initializer='he_uniform', padding='same')\n",
    "    tf.keras.layers.MaxPooling2D((2, 2))\n",
    "    tf.keras.layers.Conv2D(64, (3, 3), activation=tf.keras.layers.PReLU(alpha_initializer=Constant(value=0.25)), kernel_initializer='he_uniform', padding='same')\n",
    "    tf.keras.layers.Conv2D(64, (3, 3), activation=tf.keras.layers.PReLU(alpha_initializer=Constant(value=0.25)), kernel_initializer='he_uniform', padding='same')\n",
    "    tf.keras.layers.MaxPooling2D((2, 2))\n",
    "    tf.keras.layers.Conv2D(128, (3, 3), activation=tf.keras.layers.PReLU(alpha_initializer=Constant(value=0.25)), kernel_initializer='he_uniform', padding='same')\n",
    "    tf.keras.layers.Conv2D(128, (3, 3), activation=tf.keras.layers.PReLU(alpha_initializer=Constant(value=0.25)), kernel_initializer='he_uniform', padding='same')\n",
    "    tf.keras.layers.MaxPooling2D((2, 2))\n",
    "    \n",
    "    # Fully Connected Layers\n",
    "    tf.keras.layers.Flatten(), \n",
    "    tf.keras.layers.Dense(128, activation=tf.nn.relu, kernel_initializer='he_uniform'), \n",
    "    tf.keras.layers.Dense(10, activation=tf.nn.softmax)])"
   ]
  },
  {
   "cell_type": "code",
   "execution_count": 35,
   "metadata": {},
   "outputs": [],
   "source": [
    "opt = SGD(lr=0.001, momentum=0.9)\n",
    "modelP.compile(optimizer=opt, loss='categorical_crossentropy', metrics=['accuracy'])"
   ]
  },
  {
   "cell_type": "code",
   "execution_count": 36,
   "metadata": {},
   "outputs": [
    {
     "name": "stdout",
     "output_type": "stream",
     "text": [
      "Epoch 1/5\n",
      "1875/1875 [==============================] - 68s 36ms/step - loss: 0.4658 - accuracy: 0.8295\n",
      "Epoch 2/5\n",
      "1875/1875 [==============================] - 72s 38ms/step - loss: 0.3112 - accuracy: 0.8860\n",
      "Epoch 3/5\n",
      "1875/1875 [==============================] - 69s 37ms/step - loss: 0.2633 - accuracy: 0.9028\n",
      "Epoch 4/5\n",
      "1875/1875 [==============================] - 68s 36ms/step - loss: 0.2315 - accuracy: 0.9142\n",
      "Epoch 5/5\n",
      "1875/1875 [==============================] - 69s 37ms/step - loss: 0.2032 - accuracy: 0.9249\n"
     ]
    },
    {
     "data": {
      "text/plain": [
       "<keras.callbacks.History at 0x7ff9d4d45940>"
      ]
     },
     "execution_count": 36,
     "metadata": {},
     "output_type": "execute_result"
    }
   ],
   "source": [
    "modelP.fit(training_images, training_labels, epochs=5)"
   ]
  },
  {
   "cell_type": "code",
   "execution_count": 37,
   "metadata": {},
   "outputs": [
    {
     "name": "stdout",
     "output_type": "stream",
     "text": [
      "313/313 [==============================] - 4s 11ms/step - loss: 0.2656 - accuracy: 0.9036\n"
     ]
    },
    {
     "data": {
      "text/plain": [
       "[0.2655937671661377, 0.9035999774932861]"
      ]
     },
     "execution_count": 37,
     "metadata": {},
     "output_type": "execute_result"
    }
   ],
   "source": [
    "modelP.evaluate(test_images, test_labels)"
   ]
  },
  {
   "cell_type": "code",
   "execution_count": 38,
   "metadata": {},
   "outputs": [
    {
     "data": {
      "text/plain": [
       "['conv2d_6',\n",
       " 'max_pooling2d_6',\n",
       " 'conv2d_7',\n",
       " 'max_pooling2d_7',\n",
       " 'flatten_3',\n",
       " 'dense_6',\n",
       " 'dense_7']"
      ]
     },
     "execution_count": 38,
     "metadata": {},
     "output_type": "execute_result"
    }
   ],
   "source": [
    "list(map(lambda x: x.name, modelP.layers))"
   ]
  },
  {
   "cell_type": "code",
   "execution_count": 39,
   "metadata": {},
   "outputs": [],
   "source": [
    "PReLU_activation_probabilities=actProb(modelP,\"conv2d_7\")"
   ]
  },
  {
   "cell_type": "code",
   "execution_count": 40,
   "metadata": {},
   "outputs": [
    {
     "data": {
      "text/plain": [
       "[<matplotlib.lines.Line2D at 0x7ff9c02b2c10>]"
      ]
     },
     "execution_count": 40,
     "metadata": {},
     "output_type": "execute_result"
    },
    {
     "data": {
      "image/png": "[encoded data removed]",
      "text/plain": [
       "<Figure size 432x288 with 1 Axes>"
      ]
     },
     "metadata": {
      "needs_background": "light"
     },
     "output_type": "display_data"
    }
   ],
   "source": [
    "plt.plot(PReLU_activation_probabilities)"
   ]
  },
  {
   "cell_type": "code",
   "execution_count": 41,
   "metadata": {},
   "outputs": [
    {
     "data": {
      "image/png": "[encoded data removed]",
      "text/plain": [
       "<Figure size 504x360 with 1 Axes>"
      ]
     },
     "metadata": {
      "needs_background": "light"
     },
     "output_type": "display_data"
    }
   ],
   "source": [
    "fig=plt.figure(figsize=(7,5))\n",
    "plt.plot(htan_activation_probabilities, label='tanh')\n",
    "plt.plot(ReLU_activation_probabilities, label='ReLU')\n",
    "plt.plot(LReLU_activation_probabilities, label='LReLU')\n",
    "plt.plot(PReLU_activation_probabilities, label='PReLU')\n",
    "plt.legend()\n",
    "plt.show()"
   ]
  },
  {
   "cell_type": "code",
   "execution_count": null,
   "metadata": {},
   "outputs": [],
   "source": []
  }
 ],
 "metadata": {
  "kernelspec": {
   "display_name": "Python 3 (ipykernel)",
   "language": "python",
   "name": "python3"
  },
  "language_info": {
   "codemirror_mode": {
    "name": "ipython",
    "version": 3
   },
   "file_extension": ".py",
   "mimetype": "text/x-python",
   "name": "python",
   "nbconvert_exporter": "python",
   "pygments_lexer": "ipython3",
   "version": "3.9.12"
  }
 },
 "nbformat": 4,
 "nbformat_minor": 4
}
